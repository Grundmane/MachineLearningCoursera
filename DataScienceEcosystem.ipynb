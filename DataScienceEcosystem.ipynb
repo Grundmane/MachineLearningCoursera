{
  "nbformat": 4,
  "nbformat_minor": 0,
  "metadata": {
    "colab": {
      "provenance": [],
      "authorship_tag": "ABX9TyO1Ach5meptoV+/RVZeO3Lk",
      "include_colab_link": true
    },
    "kernelspec": {
      "name": "python3",
      "display_name": "Python 3"
    },
    "language_info": {
      "name": "python"
    }
  },
  "cells": [
    {
      "cell_type": "markdown",
      "metadata": {
        "id": "view-in-github",
        "colab_type": "text"
      },
      "source": [
        "<a href=\"https://colab.research.google.com/github/Grundmane/MachineLearningCoursera/blob/main/DataScienceEcosystem.ipynb\" target=\"_parent\"><img src=\"https://colab.research.google.com/assets/colab-badge.svg\" alt=\"Open In Colab\"/></a>"
      ]
    },
    {
      "cell_type": "markdown",
      "source": [
        "\n",
        "# Data Science Tools and Ecosystem\n"
      ],
      "metadata": {
        "id": "rWKUM6xXFo6w"
      }
    },
    {
      "cell_type": "markdown",
      "source": [
        "In this notebook, Data Science Tools and Ecosystem are summarized."
      ],
      "metadata": {
        "id": "_ygFt_Y_Iwtc"
      }
    },
    {
      "cell_type": "markdown",
      "source": [
        "Some of the popular languages that Data Scientists use are:\n",
        "\n",
        "\n",
        "1.   Python\n",
        "2.   Julia\n",
        "3.   Java\n",
        "\n",
        "**Objectives:**\n",
        "\n",
        "- List popular languages for Data Science\n",
        "- Explain the basics of machine learning\n",
        "- Demonstrate data cleaning and preprocessing techniques\n",
        "- Introduce common libraries used in Data Science\n",
        "- Showcase data visualization methods\n",
        "\n",
        "\n"
      ],
      "metadata": {
        "id": "VLFBni6pJE9M"
      }
    },
    {
      "cell_type": "markdown",
      "source": [
        "Some of the commonly used libraries used by Data Scientists include:\n",
        "\n",
        "\n",
        "*   Pandas\n",
        "*   NumPy\n",
        "*   SciKit-Learn\n",
        "\n"
      ],
      "metadata": {
        "id": "SPJURLYkJw1b"
      }
    },
    {
      "cell_type": "markdown",
      "source": [
        "| Data Science Tools      |\n",
        "| ----------- |\n",
        "| RStudio      |\n",
        "| Apache Spark   |\n",
        "| TensorFlow   |"
      ],
      "metadata": {
        "id": "q1SqiRfEL_hy"
      }
    },
    {
      "cell_type": "markdown",
      "source": [
        "### Below are a few examples of evaluating arithmetic expressions in Python\n"
      ],
      "metadata": {
        "id": "xQhvEyZ2MhJY"
      }
    },
    {
      "cell_type": "markdown",
      "source": [],
      "metadata": {
        "id": "jMBI3147Mr0D"
      }
    },
    {
      "cell_type": "code",
      "source": [
        "(3*4)+5\n",
        "#This a simple arithmetic expression to mutiply then add integers"
      ],
      "metadata": {
        "colab": {
          "base_uri": "https://localhost:8080/"
        },
        "id": "TVMBf8GQM6yh",
        "outputId": "cc8f8e63-6409-40ee-a08e-d8b0a36fd07e"
      },
      "execution_count": 3,
      "outputs": [
        {
          "output_type": "execute_result",
          "data": {
            "text/plain": [
              "17"
            ]
          },
          "metadata": {},
          "execution_count": 3
        }
      ]
    },
    {
      "cell_type": "code",
      "source": [
        " #This will convert 200 minutes to hours by diving by 60\n",
        " minutes = 200\n",
        "hours = minutes / 60\n",
        "print(hours)"
      ],
      "metadata": {
        "colab": {
          "base_uri": "https://localhost:8080/"
        },
        "id": "y9tG54qcNSLI",
        "outputId": "12822751-bfa9-4875-e63f-dcdc29686e5c"
      },
      "execution_count": 4,
      "outputs": [
        {
          "output_type": "stream",
          "name": "stdout",
          "text": [
            "3.3333333333333335\n"
          ]
        }
      ]
    },
    {
      "cell_type": "markdown",
      "source": [
        "## Author\n",
        "\n",
        "Veronika"
      ],
      "metadata": {
        "id": "9JlajXg8PV_M"
      }
    },
    {
      "cell_type": "markdown",
      "source": [],
      "metadata": {
        "id": "DmyeNT8mPb5M"
      }
    }
  ]
}